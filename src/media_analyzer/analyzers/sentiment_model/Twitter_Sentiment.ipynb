{
  "nbformat": 4,
  "nbformat_minor": 0,
  "metadata": {
    "colab": {
      "provenance": [],
      "collapsed_sections": []
    },
    "kernelspec": {
      "name": "python3",
      "display_name": "Python 3"
    },
    "language_info": {
      "name": "python"
    },
    "accelerator": "GPU",
    "widgets": {
      "application/vnd.jupyter.widget-state+json": {
        "055503c439fb4264b54d0ab9f6559f44": {
          "model_module": "@jupyter-widgets/controls",
          "model_name": "HBoxModel",
          "model_module_version": "1.5.0",
          "state": {
            "_dom_classes": [],
            "_model_module": "@jupyter-widgets/controls",
            "_model_module_version": "1.5.0",
            "_model_name": "HBoxModel",
            "_view_count": null,
            "_view_module": "@jupyter-widgets/controls",
            "_view_module_version": "1.5.0",
            "_view_name": "HBoxView",
            "box_style": "",
            "children": [
              "IPY_MODEL_7bef1399284d4fcba928aac24b65f027",
              "IPY_MODEL_120c07326d084727b0a2e89818335413",
              "IPY_MODEL_6dc1afec7949408abdc0133a7c874cf9"
            ],
            "layout": "IPY_MODEL_6b111ed9e3464bb292b964e4df811b01"
          }
        },
        "7bef1399284d4fcba928aac24b65f027": {
          "model_module": "@jupyter-widgets/controls",
          "model_name": "HTMLModel",
          "model_module_version": "1.5.0",
          "state": {
            "_dom_classes": [],
            "_model_module": "@jupyter-widgets/controls",
            "_model_module_version": "1.5.0",
            "_model_name": "HTMLModel",
            "_view_count": null,
            "_view_module": "@jupyter-widgets/controls",
            "_view_module_version": "1.5.0",
            "_view_name": "HTMLView",
            "description": "",
            "description_tooltip": null,
            "layout": "IPY_MODEL_b7c1ba4d85744df2b4110bd55e35beea",
            "placeholder": "​",
            "style": "IPY_MODEL_45222acd8fec435aa1ff3ad7b7b1681f",
            "value": ""
          }
        },
        "120c07326d084727b0a2e89818335413": {
          "model_module": "@jupyter-widgets/controls",
          "model_name": "FloatProgressModel",
          "model_module_version": "1.5.0",
          "state": {
            "_dom_classes": [],
            "_model_module": "@jupyter-widgets/controls",
            "_model_module_version": "1.5.0",
            "_model_name": "FloatProgressModel",
            "_view_count": null,
            "_view_module": "@jupyter-widgets/controls",
            "_view_module_version": "1.5.0",
            "_view_name": "ProgressView",
            "bar_style": "success",
            "description": "",
            "description_tooltip": null,
            "layout": "IPY_MODEL_13ab340597a94b6c97662db9ad7228d2",
            "max": 1,
            "min": 0,
            "orientation": "horizontal",
            "style": "IPY_MODEL_957cd3c78b234562a2f6a956cc1f2317",
            "value": 0
          }
        },
        "6dc1afec7949408abdc0133a7c874cf9": {
          "model_module": "@jupyter-widgets/controls",
          "model_name": "HTMLModel",
          "model_module_version": "1.5.0",
          "state": {
            "_dom_classes": [],
            "_model_module": "@jupyter-widgets/controls",
            "_model_module_version": "1.5.0",
            "_model_name": "HTMLModel",
            "_view_count": null,
            "_view_module": "@jupyter-widgets/controls",
            "_view_module_version": "1.5.0",
            "_view_name": "HTMLView",
            "description": "",
            "description_tooltip": null,
            "layout": "IPY_MODEL_88517f857af84fd3b9ffc75cf49a5be0",
            "placeholder": "​",
            "style": "IPY_MODEL_667808c9bdcd42a49ef39a978ea61494",
            "value": " 0/0 [00:00&lt;?, ?it/s]"
          }
        },
        "6b111ed9e3464bb292b964e4df811b01": {
          "model_module": "@jupyter-widgets/base",
          "model_name": "LayoutModel",
          "model_module_version": "1.2.0",
          "state": {
            "_model_module": "@jupyter-widgets/base",
            "_model_module_version": "1.2.0",
            "_model_name": "LayoutModel",
            "_view_count": null,
            "_view_module": "@jupyter-widgets/base",
            "_view_module_version": "1.2.0",
            "_view_name": "LayoutView",
            "align_content": null,
            "align_items": null,
            "align_self": null,
            "border": null,
            "bottom": null,
            "display": null,
            "flex": null,
            "flex_flow": null,
            "grid_area": null,
            "grid_auto_columns": null,
            "grid_auto_flow": null,
            "grid_auto_rows": null,
            "grid_column": null,
            "grid_gap": null,
            "grid_row": null,
            "grid_template_areas": null,
            "grid_template_columns": null,
            "grid_template_rows": null,
            "height": null,
            "justify_content": null,
            "justify_items": null,
            "left": null,
            "margin": null,
            "max_height": null,
            "max_width": null,
            "min_height": null,
            "min_width": null,
            "object_fit": null,
            "object_position": null,
            "order": null,
            "overflow": null,
            "overflow_x": null,
            "overflow_y": null,
            "padding": null,
            "right": null,
            "top": null,
            "visibility": null,
            "width": null
          }
        },
        "b7c1ba4d85744df2b4110bd55e35beea": {
          "model_module": "@jupyter-widgets/base",
          "model_name": "LayoutModel",
          "model_module_version": "1.2.0",
          "state": {
            "_model_module": "@jupyter-widgets/base",
            "_model_module_version": "1.2.0",
            "_model_name": "LayoutModel",
            "_view_count": null,
            "_view_module": "@jupyter-widgets/base",
            "_view_module_version": "1.2.0",
            "_view_name": "LayoutView",
            "align_content": null,
            "align_items": null,
            "align_self": null,
            "border": null,
            "bottom": null,
            "display": null,
            "flex": null,
            "flex_flow": null,
            "grid_area": null,
            "grid_auto_columns": null,
            "grid_auto_flow": null,
            "grid_auto_rows": null,
            "grid_column": null,
            "grid_gap": null,
            "grid_row": null,
            "grid_template_areas": null,
            "grid_template_columns": null,
            "grid_template_rows": null,
            "height": null,
            "justify_content": null,
            "justify_items": null,
            "left": null,
            "margin": null,
            "max_height": null,
            "max_width": null,
            "min_height": null,
            "min_width": null,
            "object_fit": null,
            "object_position": null,
            "order": null,
            "overflow": null,
            "overflow_x": null,
            "overflow_y": null,
            "padding": null,
            "right": null,
            "top": null,
            "visibility": null,
            "width": null
          }
        },
        "45222acd8fec435aa1ff3ad7b7b1681f": {
          "model_module": "@jupyter-widgets/controls",
          "model_name": "DescriptionStyleModel",
          "model_module_version": "1.5.0",
          "state": {
            "_model_module": "@jupyter-widgets/controls",
            "_model_module_version": "1.5.0",
            "_model_name": "DescriptionStyleModel",
            "_view_count": null,
            "_view_module": "@jupyter-widgets/base",
            "_view_module_version": "1.2.0",
            "_view_name": "StyleView",
            "description_width": ""
          }
        },
        "13ab340597a94b6c97662db9ad7228d2": {
          "model_module": "@jupyter-widgets/base",
          "model_name": "LayoutModel",
          "model_module_version": "1.2.0",
          "state": {
            "_model_module": "@jupyter-widgets/base",
            "_model_module_version": "1.2.0",
            "_model_name": "LayoutModel",
            "_view_count": null,
            "_view_module": "@jupyter-widgets/base",
            "_view_module_version": "1.2.0",
            "_view_name": "LayoutView",
            "align_content": null,
            "align_items": null,
            "align_self": null,
            "border": null,
            "bottom": null,
            "display": null,
            "flex": null,
            "flex_flow": null,
            "grid_area": null,
            "grid_auto_columns": null,
            "grid_auto_flow": null,
            "grid_auto_rows": null,
            "grid_column": null,
            "grid_gap": null,
            "grid_row": null,
            "grid_template_areas": null,
            "grid_template_columns": null,
            "grid_template_rows": null,
            "height": null,
            "justify_content": null,
            "justify_items": null,
            "left": null,
            "margin": null,
            "max_height": null,
            "max_width": null,
            "min_height": null,
            "min_width": null,
            "object_fit": null,
            "object_position": null,
            "order": null,
            "overflow": null,
            "overflow_x": null,
            "overflow_y": null,
            "padding": null,
            "right": null,
            "top": null,
            "visibility": null,
            "width": "20px"
          }
        },
        "957cd3c78b234562a2f6a956cc1f2317": {
          "model_module": "@jupyter-widgets/controls",
          "model_name": "ProgressStyleModel",
          "model_module_version": "1.5.0",
          "state": {
            "_model_module": "@jupyter-widgets/controls",
            "_model_module_version": "1.5.0",
            "_model_name": "ProgressStyleModel",
            "_view_count": null,
            "_view_module": "@jupyter-widgets/base",
            "_view_module_version": "1.2.0",
            "_view_name": "StyleView",
            "bar_color": null,
            "description_width": ""
          }
        },
        "88517f857af84fd3b9ffc75cf49a5be0": {
          "model_module": "@jupyter-widgets/base",
          "model_name": "LayoutModel",
          "model_module_version": "1.2.0",
          "state": {
            "_model_module": "@jupyter-widgets/base",
            "_model_module_version": "1.2.0",
            "_model_name": "LayoutModel",
            "_view_count": null,
            "_view_module": "@jupyter-widgets/base",
            "_view_module_version": "1.2.0",
            "_view_name": "LayoutView",
            "align_content": null,
            "align_items": null,
            "align_self": null,
            "border": null,
            "bottom": null,
            "display": null,
            "flex": null,
            "flex_flow": null,
            "grid_area": null,
            "grid_auto_columns": null,
            "grid_auto_flow": null,
            "grid_auto_rows": null,
            "grid_column": null,
            "grid_gap": null,
            "grid_row": null,
            "grid_template_areas": null,
            "grid_template_columns": null,
            "grid_template_rows": null,
            "height": null,
            "justify_content": null,
            "justify_items": null,
            "left": null,
            "margin": null,
            "max_height": null,
            "max_width": null,
            "min_height": null,
            "min_width": null,
            "object_fit": null,
            "object_position": null,
            "order": null,
            "overflow": null,
            "overflow_x": null,
            "overflow_y": null,
            "padding": null,
            "right": null,
            "top": null,
            "visibility": null,
            "width": null
          }
        },
        "667808c9bdcd42a49ef39a978ea61494": {
          "model_module": "@jupyter-widgets/controls",
          "model_name": "DescriptionStyleModel",
          "model_module_version": "1.5.0",
          "state": {
            "_model_module": "@jupyter-widgets/controls",
            "_model_module_version": "1.5.0",
            "_model_name": "DescriptionStyleModel",
            "_view_count": null,
            "_view_module": "@jupyter-widgets/base",
            "_view_module_version": "1.2.0",
            "_view_name": "StyleView",
            "description_width": ""
          }
        }
      }
    }
  },
  "cells": [
    {
      "cell_type": "markdown",
      "source": [
        "Install all necessary dependencies and import necessary libraries"
      ],
      "metadata": {
        "id": "zrz4Fol7lgw7"
      }
    },
    {
      "cell_type": "code",
      "source": [
        "!pip install transformers"
      ],
      "metadata": {
        "colab": {
          "base_uri": "https://localhost:8080/"
        },
        "id": "wDyH4cFrCPvz",
        "outputId": "123bc96b-45dd-4870-f1c1-883657f623f1"
      },
      "execution_count": 1,
      "outputs": [
        {
          "output_type": "stream",
          "name": "stdout",
          "text": [
            "Looking in indexes: https://pypi.org/simple, https://us-python.pkg.dev/colab-wheels/public/simple/\n",
            "Requirement already satisfied: transformers in /usr/local/lib/python3.7/dist-packages (4.22.2)\n",
            "Requirement already satisfied: numpy>=1.17 in /usr/local/lib/python3.7/dist-packages (from transformers) (1.21.6)\n",
            "Requirement already satisfied: regex!=2019.12.17 in /usr/local/lib/python3.7/dist-packages (from transformers) (2022.6.2)\n",
            "Requirement already satisfied: requests in /usr/local/lib/python3.7/dist-packages (from transformers) (2.23.0)\n",
            "Requirement already satisfied: pyyaml>=5.1 in /usr/local/lib/python3.7/dist-packages (from transformers) (6.0)\n",
            "Requirement already satisfied: tqdm>=4.27 in /usr/local/lib/python3.7/dist-packages (from transformers) (4.64.1)\n",
            "Requirement already satisfied: packaging>=20.0 in /usr/local/lib/python3.7/dist-packages (from transformers) (21.3)\n",
            "Requirement already satisfied: filelock in /usr/local/lib/python3.7/dist-packages (from transformers) (3.8.0)\n",
            "Requirement already satisfied: huggingface-hub<1.0,>=0.9.0 in /usr/local/lib/python3.7/dist-packages (from transformers) (0.10.0)\n",
            "Requirement already satisfied: tokenizers!=0.11.3,<0.13,>=0.11.1 in /usr/local/lib/python3.7/dist-packages (from transformers) (0.12.1)\n",
            "Requirement already satisfied: importlib-metadata in /usr/local/lib/python3.7/dist-packages (from transformers) (4.12.0)\n",
            "Requirement already satisfied: typing-extensions>=3.7.4.3 in /usr/local/lib/python3.7/dist-packages (from huggingface-hub<1.0,>=0.9.0->transformers) (4.1.1)\n",
            "Requirement already satisfied: pyparsing!=3.0.5,>=2.0.2 in /usr/local/lib/python3.7/dist-packages (from packaging>=20.0->transformers) (3.0.9)\n",
            "Requirement already satisfied: zipp>=0.5 in /usr/local/lib/python3.7/dist-packages (from importlib-metadata->transformers) (3.8.1)\n",
            "Requirement already satisfied: urllib3!=1.25.0,!=1.25.1,<1.26,>=1.21.1 in /usr/local/lib/python3.7/dist-packages (from requests->transformers) (1.24.3)\n",
            "Requirement already satisfied: certifi>=2017.4.17 in /usr/local/lib/python3.7/dist-packages (from requests->transformers) (2022.6.15)\n",
            "Requirement already satisfied: idna<3,>=2.5 in /usr/local/lib/python3.7/dist-packages (from requests->transformers) (2.10)\n",
            "Requirement already satisfied: chardet<4,>=3.0.2 in /usr/local/lib/python3.7/dist-packages (from requests->transformers) (3.0.4)\n"
          ]
        }
      ]
    },
    {
      "cell_type": "code",
      "execution_count": 2,
      "metadata": {
        "id": "LW4K8wlUcwZ7",
        "colab": {
          "base_uri": "https://localhost:8080/",
          "height": 104,
          "referenced_widgets": [
            "055503c439fb4264b54d0ab9f6559f44",
            "7bef1399284d4fcba928aac24b65f027",
            "120c07326d084727b0a2e89818335413",
            "6dc1afec7949408abdc0133a7c874cf9",
            "6b111ed9e3464bb292b964e4df811b01",
            "b7c1ba4d85744df2b4110bd55e35beea",
            "45222acd8fec435aa1ff3ad7b7b1681f",
            "13ab340597a94b6c97662db9ad7228d2",
            "957cd3c78b234562a2f6a956cc1f2317",
            "88517f857af84fd3b9ffc75cf49a5be0",
            "667808c9bdcd42a49ef39a978ea61494"
          ]
        },
        "outputId": "27ee23dc-f01c-485b-a218-40824f26871f"
      },
      "outputs": [
        {
          "output_type": "stream",
          "name": "stderr",
          "text": [
            "The cache for model files in Transformers v4.22.0 has been updated. Migrating your old cache. This is a one-time only operation. You can interrupt this and resume the migration later on by calling `transformers.utils.move_cache()`.\n"
          ]
        },
        {
          "output_type": "stream",
          "name": "stdout",
          "text": [
            "Moving 0 files to the new cache system\n"
          ]
        },
        {
          "output_type": "display_data",
          "data": {
            "text/plain": [
              "0it [00:00, ?it/s]"
            ],
            "application/vnd.jupyter.widget-view+json": {
              "version_major": 2,
              "version_minor": 0,
              "model_id": "055503c439fb4264b54d0ab9f6559f44"
            }
          },
          "metadata": {}
        }
      ],
      "source": [
        "import pandas as pd\n",
        "import numpy as np\n",
        "from matplotlib import pyplot as plt\n",
        "import requests\n",
        "import regex as re\n",
        "from tqdm import tqdm\n",
        "\n",
        "import torch\n",
        "import torch.nn as nn\n",
        "from transformers import BertTokenizer, BertModel\n",
        "from torch.utils.data import DataLoader, Dataset\n",
        "from sklearn.model_selection import train_test_split\n",
        "from sklearn.metrics import accuracy_score\n",
        "from google.colab import files"
      ]
    },
    {
      "cell_type": "markdown",
      "source": [
        "Download the kaggle dataset for twitter sentiments and unzip it into the data directory"
      ],
      "metadata": {
        "id": "RHF3EOkIlpu6"
      }
    },
    {
      "cell_type": "code",
      "source": [
        "!pip install -q kaggle\n",
        "!mkdir ~/.kaggle/\n",
        "!cp kaggle.json ~/.kaggle/\n",
        "!chmod 600 ~/kaggle/kaggle.json\n",
        "!kaggle competitions download -c tweet-sentiment-extraction\n",
        "!mkdir data\n",
        "!unzip -n -d data tweet-sentiment-extraction.zip"
      ],
      "metadata": {
        "colab": {
          "base_uri": "https://localhost:8080/"
        },
        "id": "GK60dRjvbhsX",
        "outputId": "a451f281-585e-45b5-a5f0-dfe5ccc4bc49"
      },
      "execution_count": 3,
      "outputs": [
        {
          "output_type": "stream",
          "name": "stdout",
          "text": [
            "mkdir: cannot create directory ‘/root/.kaggle/’: File exists\n",
            "chmod: cannot access '/root/kaggle/kaggle.json': No such file or directory\n",
            "Warning: Your Kaggle API key is readable by other users on this system! To fix this, you can run 'chmod 600 /root/.kaggle/kaggle.json'\n",
            "tweet-sentiment-extraction.zip: Skipping, found more recently modified local copy (use --force to force download)\n",
            "mkdir: cannot create directory ‘data’: File exists\n",
            "Archive:  tweet-sentiment-extraction.zip\n"
          ]
        }
      ]
    },
    {
      "cell_type": "markdown",
      "source": [
        "Download Sentiment140 dataset that only contains positive and negative samples"
      ],
      "metadata": {
        "id": "2WjzwZbxlx6v"
      }
    },
    {
      "cell_type": "code",
      "source": [
        "!mkdir -p data1\n",
        "!wget -nc http://cs.stanford.edu/people/alecmgo/trainingandtestdata.zip -P data1\n",
        "!unzip -n -d data1 /content/data1/trainingandtestdata.zip"
      ],
      "metadata": {
        "colab": {
          "base_uri": "https://localhost:8080/"
        },
        "id": "GSVsYpqefF_s",
        "outputId": "654ad962-bcf0-48c5-b218-b7dd841ef99f"
      },
      "execution_count": 4,
      "outputs": [
        {
          "output_type": "stream",
          "name": "stdout",
          "text": [
            "--2022-09-29 00:04:23--  http://cs.stanford.edu/people/alecmgo/trainingandtestdata.zip\n",
            "Resolving cs.stanford.edu (cs.stanford.edu)... 171.64.64.64\n",
            "Connecting to cs.stanford.edu (cs.stanford.edu)|171.64.64.64|:80... connected.\n",
            "HTTP request sent, awaiting response... 301 Moved Permanently\n",
            "Location: https://cs.stanford.edu/people/alecmgo/trainingandtestdata.zip [following]\n",
            "--2022-09-29 00:04:23--  https://cs.stanford.edu/people/alecmgo/trainingandtestdata.zip\n",
            "Connecting to cs.stanford.edu (cs.stanford.edu)|171.64.64.64|:443... connected.\n",
            "HTTP request sent, awaiting response... 200 OK\n",
            "Length: 81363704 (78M) [application/zip]\n",
            "Saving to: ‘data1/trainingandtestdata.zip’\n",
            "\n",
            "trainingandtestdata 100%[===================>]  77.59M  33.2MB/s    in 2.3s    \n",
            "\n",
            "2022-09-29 00:04:26 (33.2 MB/s) - ‘data1/trainingandtestdata.zip’ saved [81363704/81363704]\n",
            "\n",
            "Archive:  /content/data1/trainingandtestdata.zip\n",
            "  inflating: data1/testdata.manual.2009.06.14.csv  \n",
            "  inflating: data1/training.1600000.processed.noemoticon.csv  \n"
          ]
        }
      ]
    },
    {
      "cell_type": "markdown",
      "source": [
        "Build data preprocessing function to put the text into a format the model can learn from and put the outputs into a list format for BERT pretrained model."
      ],
      "metadata": {
        "id": "gcZCcxMIl-Yg"
      }
    },
    {
      "cell_type": "code",
      "source": [
        "TRAIN_CSV = '/content/data/train.csv'\n",
        "TEST_CSV = '/content/data/test.csv'"
      ],
      "metadata": {
        "id": "L6DNddE6fjaJ"
      },
      "execution_count": 5,
      "outputs": []
    },
    {
      "cell_type": "code",
      "source": [
        "def data_preprocess(df, text_col, label_col, num_labels, label_encodings=None):\n",
        "  if label_encodings is not None:\n",
        "    df[label_col] = df[label_col].apply(lambda x: label_encodings[x])\n",
        "  df[text_col] = df[text_col].apply(lambda x: re.sub('@\\w*', '', str(x)).strip())\n",
        "  def build_list(x):\n",
        "    res = [0 for i in range(num_labels)]\n",
        "    res[x] = 1.0\n",
        "    return res\n",
        "\n",
        "  df[label_col] = df[label_col].apply(lambda x: build_list(x))\n",
        "  return df"
      ],
      "metadata": {
        "id": "CaQHgyK4jdi-"
      },
      "execution_count": 6,
      "outputs": []
    },
    {
      "cell_type": "code",
      "source": [
        "TEXT = 'text'\n",
        "SENTIMENT = 'sentiment'"
      ],
      "metadata": {
        "id": "pp379t8UfI4F"
      },
      "execution_count": 7,
      "outputs": []
    },
    {
      "cell_type": "code",
      "source": [
        "df = pd.read_csv(TRAIN_CSV).drop('selected_text', axis=1)\n",
        "df = data_preprocess(df, 'text', 'sentiment', 3, {'negative':0, 'neutral':1, 'positive':2})\n",
        "df.head()"
      ],
      "metadata": {
        "colab": {
          "base_uri": "https://localhost:8080/",
          "height": 206
        },
        "id": "Y4pBp-mCs9fv",
        "outputId": "42375534-cc1a-4206-9dd5-916d052c157b"
      },
      "execution_count": 8,
      "outputs": [
        {
          "output_type": "execute_result",
          "data": {
            "text/plain": [
              "       textID                                               text    sentiment\n",
              "0  cb774db0d1                I`d have responded, if I were going  [0, 1.0, 0]\n",
              "1  549e992a42      Sooo SAD I will miss you here in San Diego!!!  [1.0, 0, 0]\n",
              "2  088c60f138                          my boss is bullying me...  [1.0, 0, 0]\n",
              "3  9642c003ef                     what interview! leave me alone  [1.0, 0, 0]\n",
              "4  358bd9e861  Sons of ****, why couldn`t they put them on th...  [1.0, 0, 0]"
            ],
            "text/html": [
              "\n",
              "  <div id=\"df-ee4a179b-5d0e-4960-bfd7-17e7d1c91188\">\n",
              "    <div class=\"colab-df-container\">\n",
              "      <div>\n",
              "<style scoped>\n",
              "    .dataframe tbody tr th:only-of-type {\n",
              "        vertical-align: middle;\n",
              "    }\n",
              "\n",
              "    .dataframe tbody tr th {\n",
              "        vertical-align: top;\n",
              "    }\n",
              "\n",
              "    .dataframe thead th {\n",
              "        text-align: right;\n",
              "    }\n",
              "</style>\n",
              "<table border=\"1\" class=\"dataframe\">\n",
              "  <thead>\n",
              "    <tr style=\"text-align: right;\">\n",
              "      <th></th>\n",
              "      <th>textID</th>\n",
              "      <th>text</th>\n",
              "      <th>sentiment</th>\n",
              "    </tr>\n",
              "  </thead>\n",
              "  <tbody>\n",
              "    <tr>\n",
              "      <th>0</th>\n",
              "      <td>cb774db0d1</td>\n",
              "      <td>I`d have responded, if I were going</td>\n",
              "      <td>[0, 1.0, 0]</td>\n",
              "    </tr>\n",
              "    <tr>\n",
              "      <th>1</th>\n",
              "      <td>549e992a42</td>\n",
              "      <td>Sooo SAD I will miss you here in San Diego!!!</td>\n",
              "      <td>[1.0, 0, 0]</td>\n",
              "    </tr>\n",
              "    <tr>\n",
              "      <th>2</th>\n",
              "      <td>088c60f138</td>\n",
              "      <td>my boss is bullying me...</td>\n",
              "      <td>[1.0, 0, 0]</td>\n",
              "    </tr>\n",
              "    <tr>\n",
              "      <th>3</th>\n",
              "      <td>9642c003ef</td>\n",
              "      <td>what interview! leave me alone</td>\n",
              "      <td>[1.0, 0, 0]</td>\n",
              "    </tr>\n",
              "    <tr>\n",
              "      <th>4</th>\n",
              "      <td>358bd9e861</td>\n",
              "      <td>Sons of ****, why couldn`t they put them on th...</td>\n",
              "      <td>[1.0, 0, 0]</td>\n",
              "    </tr>\n",
              "  </tbody>\n",
              "</table>\n",
              "</div>\n",
              "      <button class=\"colab-df-convert\" onclick=\"convertToInteractive('df-ee4a179b-5d0e-4960-bfd7-17e7d1c91188')\"\n",
              "              title=\"Convert this dataframe to an interactive table.\"\n",
              "              style=\"display:none;\">\n",
              "        \n",
              "  <svg xmlns=\"http://www.w3.org/2000/svg\" height=\"24px\"viewBox=\"0 0 24 24\"\n",
              "       width=\"24px\">\n",
              "    <path d=\"M0 0h24v24H0V0z\" fill=\"none\"/>\n",
              "    <path d=\"M18.56 5.44l.94 2.06.94-2.06 2.06-.94-2.06-.94-.94-2.06-.94 2.06-2.06.94zm-11 1L8.5 8.5l.94-2.06 2.06-.94-2.06-.94L8.5 2.5l-.94 2.06-2.06.94zm10 10l.94 2.06.94-2.06 2.06-.94-2.06-.94-.94-2.06-.94 2.06-2.06.94z\"/><path d=\"M17.41 7.96l-1.37-1.37c-.4-.4-.92-.59-1.43-.59-.52 0-1.04.2-1.43.59L10.3 9.45l-7.72 7.72c-.78.78-.78 2.05 0 2.83L4 21.41c.39.39.9.59 1.41.59.51 0 1.02-.2 1.41-.59l7.78-7.78 2.81-2.81c.8-.78.8-2.07 0-2.86zM5.41 20L4 18.59l7.72-7.72 1.47 1.35L5.41 20z\"/>\n",
              "  </svg>\n",
              "      </button>\n",
              "      \n",
              "  <style>\n",
              "    .colab-df-container {\n",
              "      display:flex;\n",
              "      flex-wrap:wrap;\n",
              "      gap: 12px;\n",
              "    }\n",
              "\n",
              "    .colab-df-convert {\n",
              "      background-color: #E8F0FE;\n",
              "      border: none;\n",
              "      border-radius: 50%;\n",
              "      cursor: pointer;\n",
              "      display: none;\n",
              "      fill: #1967D2;\n",
              "      height: 32px;\n",
              "      padding: 0 0 0 0;\n",
              "      width: 32px;\n",
              "    }\n",
              "\n",
              "    .colab-df-convert:hover {\n",
              "      background-color: #E2EBFA;\n",
              "      box-shadow: 0px 1px 2px rgba(60, 64, 67, 0.3), 0px 1px 3px 1px rgba(60, 64, 67, 0.15);\n",
              "      fill: #174EA6;\n",
              "    }\n",
              "\n",
              "    [theme=dark] .colab-df-convert {\n",
              "      background-color: #3B4455;\n",
              "      fill: #D2E3FC;\n",
              "    }\n",
              "\n",
              "    [theme=dark] .colab-df-convert:hover {\n",
              "      background-color: #434B5C;\n",
              "      box-shadow: 0px 1px 3px 1px rgba(0, 0, 0, 0.15);\n",
              "      filter: drop-shadow(0px 1px 2px rgba(0, 0, 0, 0.3));\n",
              "      fill: #FFFFFF;\n",
              "    }\n",
              "  </style>\n",
              "\n",
              "      <script>\n",
              "        const buttonEl =\n",
              "          document.querySelector('#df-ee4a179b-5d0e-4960-bfd7-17e7d1c91188 button.colab-df-convert');\n",
              "        buttonEl.style.display =\n",
              "          google.colab.kernel.accessAllowed ? 'block' : 'none';\n",
              "\n",
              "        async function convertToInteractive(key) {\n",
              "          const element = document.querySelector('#df-ee4a179b-5d0e-4960-bfd7-17e7d1c91188');\n",
              "          const dataTable =\n",
              "            await google.colab.kernel.invokeFunction('convertToInteractive',\n",
              "                                                     [key], {});\n",
              "          if (!dataTable) return;\n",
              "\n",
              "          const docLinkHtml = 'Like what you see? Visit the ' +\n",
              "            '<a target=\"_blank\" href=https://colab.research.google.com/notebooks/data_table.ipynb>data table notebook</a>'\n",
              "            + ' to learn more about interactive tables.';\n",
              "          element.innerHTML = '';\n",
              "          dataTable['output_type'] = 'display_data';\n",
              "          await google.colab.output.renderOutput(dataTable, element);\n",
              "          const docLink = document.createElement('div');\n",
              "          docLink.innerHTML = docLinkHtml;\n",
              "          element.appendChild(docLink);\n",
              "        }\n",
              "      </script>\n",
              "    </div>\n",
              "  </div>\n",
              "  "
            ]
          },
          "metadata": {},
          "execution_count": 8
        }
      ]
    },
    {
      "cell_type": "markdown",
      "source": [
        "Find information on the dataset to find the corrent length to set the BERT tokenizer to."
      ],
      "metadata": {
        "id": "UNornLB-mHp7"
      }
    },
    {
      "cell_type": "code",
      "source": [
        "df['text'].apply(lambda x: len(x.split())).describe()"
      ],
      "metadata": {
        "colab": {
          "base_uri": "https://localhost:8080/"
        },
        "id": "DRDh4MTpDYt9",
        "outputId": "982ab4dc-242a-493d-c83b-1ff95ca2f9f1"
      },
      "execution_count": 9,
      "outputs": [
        {
          "output_type": "execute_result",
          "data": {
            "text/plain": [
              "count    27481.000000\n",
              "mean        12.892326\n",
              "std          6.922524\n",
              "min          0.000000\n",
              "25%          7.000000\n",
              "50%         12.000000\n",
              "75%         18.000000\n",
              "max         33.000000\n",
              "Name: text, dtype: float64"
            ]
          },
          "metadata": {},
          "execution_count": 9
        }
      ]
    },
    {
      "cell_type": "markdown",
      "source": [
        "Build the torch dataset and neural network architecture using the pretrained BERT model."
      ],
      "metadata": {
        "id": "JTRLne4RmPo0"
      }
    },
    {
      "cell_type": "code",
      "source": [
        "class TwitterSentimentDataset(Dataset):\n",
        "  def __init__(self,\n",
        "               text,\n",
        "               polarity,\n",
        "               max_len=64,\n",
        "               model_name = 'bert-base-uncased'):\n",
        "    self.text = text\n",
        "    self.polarity = polarity\n",
        "    self.max_len = max_len\n",
        "    self.tokenizer = BertTokenizer.from_pretrained(model_name)\n",
        "  \n",
        "  def __len__(self):\n",
        "    return len(self.text)\n",
        "\n",
        "  def __getitem__(self, index):\n",
        "    input = self.tokenizer.encode_plus(text = self.text[index],\n",
        "                                        add_special_tokens=True,\n",
        "                                        padding='max_length',\n",
        "                                        max_length = self.max_len,\n",
        "                                        return_tensors='pt',\n",
        "                                        truncation=True,\n",
        "                                        return_attention_mask=True)\n",
        "    output = self.polarity[index]\n",
        "    return torch.LongTensor(input['input_ids']), torch.LongTensor(input['attention_mask']), torch.FloatTensor(output)"
      ],
      "metadata": {
        "id": "cZ2f4lJ0-t6Z"
      },
      "execution_count": 10,
      "outputs": []
    },
    {
      "cell_type": "code",
      "source": [
        "class TwitterSentimentModel(nn.Module):\n",
        "  def __init__(self, model_name = 'bert-base-uncased', num_classes=3):\n",
        "    super(TwitterSentimentModel, self).__init__()\n",
        "    self.bert = BertModel.from_pretrained(model_name)\n",
        "    self.dropout1 = nn.Dropout(0.3)\n",
        "    self.dropout2 = nn.Dropout(0.3)\n",
        "    self.lin = nn.Linear(768, 64)\n",
        "    self.relu = nn.ReLU()\n",
        "    self.classifier = nn.Linear(64, num_classes)\n",
        "    self.softmax = nn.Softmax(-1)\n",
        "\n",
        "  def forward(self, input, attention_mask):\n",
        "    x = self.bert(input, attention_mask)[1]\n",
        "    x = self.dropout1(x)\n",
        "    x = self.lin(x)\n",
        "    x = self.relu(x)\n",
        "    x = self.dropout2(x)\n",
        "    x = self.classifier(x)\n",
        "    x = self.softmax(x)\n",
        "    return x"
      ],
      "metadata": {
        "id": "qRjO4mfVFAdU"
      },
      "execution_count": 11,
      "outputs": []
    },
    {
      "cell_type": "markdown",
      "source": [
        "Split the data into train and validation datasets so we can see how the model is performing during training and identify when it begins to overfit."
      ],
      "metadata": {
        "id": "Sj-CvK93mYVt"
      }
    },
    {
      "cell_type": "code",
      "source": [
        "train, val = train_test_split(df, test_size=0.2, random_state=42, shuffle=True)"
      ],
      "metadata": {
        "id": "9ePG5Ll5F0jP"
      },
      "execution_count": 12,
      "outputs": []
    },
    {
      "cell_type": "markdown",
      "source": [
        "Initialize the torch datasets and wrap them into the DataLoader class wtih batch size of 64, 2 workers, shuffling the data on each epoch, and not dropping the remaining data after splitting into batches."
      ],
      "metadata": {
        "id": "bdp2BSCPmgpI"
      }
    },
    {
      "cell_type": "code",
      "source": [
        "train_dataset = TwitterSentimentDataset(train[TEXT].tolist(), train[SENTIMENT].tolist())\n",
        "val_dataset = TwitterSentimentDataset(val[TEXT].tolist(), val[SENTIMENT].tolist())\n",
        "\n",
        "train_loader = DataLoader(train_dataset, batch_size=64, num_workers=2, shuffle=True, pin_memory=False, drop_last=False)\n",
        "val_loader = DataLoader(val_dataset, batch_size=64, num_workers=2, shuffle=True, pin_memory=False, drop_last=False)"
      ],
      "metadata": {
        "id": "-hNtlwv4GSi8"
      },
      "execution_count": 13,
      "outputs": []
    },
    {
      "cell_type": "code",
      "source": [
        "def read_data(data):\n",
        "  '''\n",
        "  Load the data into the cuda device\n",
        "  '''\n",
        "  return tuple(x.cuda() for x in data[0:-1]), data[-1].cuda()"
      ],
      "metadata": {
        "id": "d3ECLAmGIpMP"
      },
      "execution_count": 14,
      "outputs": []
    },
    {
      "cell_type": "code",
      "source": [
        "def get_pred(data):\n",
        "  '''\n",
        "  Set the prediction to 1 if the prediction exceeds 0.5 probability\n",
        "  '''\n",
        "  results = []\n",
        "  for d in data:\n",
        "    temp = []\n",
        "    for i in d:\n",
        "      if i > 0.5:\n",
        "        temp.append(1)\n",
        "      else:\n",
        "        temp.append(0)\n",
        "    results.append(temp)\n",
        "  return results"
      ],
      "metadata": {
        "id": "3JvetSAyo1rb"
      },
      "execution_count": 15,
      "outputs": []
    },
    {
      "cell_type": "markdown",
      "source": [
        "Train the neural network here"
      ],
      "metadata": {
        "id": "aTaV_SOhm3N_"
      }
    },
    {
      "cell_type": "code",
      "source": [
        "def train(model, train_loader, val_loader, epochs, learning_rate):\n",
        "  optimizer = torch.optim.AdamW(model.parameters(), lr=learning_rate)\n",
        "  loss_fn = torch.nn.CrossEntropyLoss()\n",
        "\n",
        "  loss_saves = []\n",
        "  accuracy_saves = []\n",
        "\n",
        "  for e in range(epochs):\n",
        "    tbar = tqdm(train_loader)\n",
        "    loss_temp = []\n",
        "    acc_temp = []\n",
        "    for batch, (X, mask, Y) in enumerate(tbar):\n",
        "      data, target = read_data((X, mask, Y))\n",
        "      optimizer.zero_grad()\n",
        "      preds = model(data[0].squeeze(), data[1].squeeze())\n",
        "      loss = loss_fn(preds, target)\n",
        "      loss.backward()\n",
        "      optimizer.step()\n",
        "\n",
        "      loss_temp.append(loss.detach().cpu().numpy().ravel())\n",
        "\n",
        "      predicts = get_pred(preds.detach().cpu().numpy())\n",
        "      acc = accuracy_score(predicts, target.detach().cpu().numpy())\n",
        "      acc_temp.append(acc)\n",
        "\n",
        "      tbar.set_description('Epoch: %i  Loss: %f  Accuracy %f' % (e, np.round(np.mean(loss_temp), 4), np.round(np.mean(acc_temp), 4)))\n",
        "\n",
        "    model.eval()\n",
        "    val_loss_temp = []\n",
        "    val_acc_temp = []\n",
        "    vbar = tqdm(val_loader)\n",
        "    with torch.no_grad():\n",
        "      for batch, (X, mask, y) in enumerate(vbar):\n",
        "        data, target = read_data((X, mask, y))\n",
        "        preds = model(data[0].squeeze(), data[1].squeeze())\n",
        "        loss = loss_fn(preds, target)\n",
        "        val_loss_temp.append(loss.detach().cpu().numpy().ravel())\n",
        "        predicts = get_pred(preds.detach().cpu().numpy())\n",
        "        acc = accuracy_score(predicts, target.detach().cpu().numpy())\n",
        "        val_acc_temp.append(acc)\n",
        "        vbar.set_description('Epoch: %i  Val Loss: %f  Val Accuracy %f' % (e, np.round(np.mean(val_loss_temp), 4), np.round(np.mean(val_acc_temp), 4)))\n",
        "    \n",
        "    torch.save(model.state_dict(), '/content/checkpoints/' + str(e) + '_checkpoint.pt')"
      ],
      "metadata": {
        "id": "BfhU7BwSGdRm"
      },
      "execution_count": 16,
      "outputs": []
    },
    {
      "cell_type": "code",
      "source": [
        "model = TwitterSentimentModel('bert-base-uncased')\n",
        "model.cuda()\n",
        "!mkdir checkpoints\n",
        "train(model, train_loader, val_loader, 5, 0.000005)"
      ],
      "metadata": {
        "colab": {
          "base_uri": "https://localhost:8080/"
        },
        "id": "YyMz9D4DqV90",
        "outputId": "2638a379-be19-4992-ab89-01cf61cef713"
      },
      "execution_count": 17,
      "outputs": [
        {
          "output_type": "stream",
          "name": "stderr",
          "text": [
            "Some weights of the model checkpoint at bert-base-uncased were not used when initializing BertModel: ['cls.predictions.transform.LayerNorm.weight', 'cls.seq_relationship.bias', 'cls.predictions.transform.LayerNorm.bias', 'cls.predictions.transform.dense.bias', 'cls.predictions.decoder.weight', 'cls.predictions.bias', 'cls.predictions.transform.dense.weight', 'cls.seq_relationship.weight']\n",
            "- This IS expected if you are initializing BertModel from the checkpoint of a model trained on another task or with another architecture (e.g. initializing a BertForSequenceClassification model from a BertForPreTraining model).\n",
            "- This IS NOT expected if you are initializing BertModel from the checkpoint of a model that you expect to be exactly identical (initializing a BertForSequenceClassification model from a BertForSequenceClassification model).\n"
          ]
        },
        {
          "output_type": "stream",
          "name": "stdout",
          "text": [
            "mkdir: cannot create directory ‘checkpoints’: File exists\n"
          ]
        },
        {
          "output_type": "stream",
          "name": "stderr",
          "text": [
            "Epoch: 0  Loss: 0.977800  Accuracy 0.409900: 100%|██████████| 344/344 [01:03<00:00,  5.42it/s]\n",
            "Epoch: 0  Val Loss: 0.856400  Val Accuracy 0.732400: 100%|██████████| 86/86 [00:05<00:00, 17.02it/s]\n",
            "Epoch: 1  Loss: 0.797800  Accuracy 0.776600: 100%|██████████| 344/344 [01:01<00:00,  5.56it/s]\n",
            "Epoch: 1  Val Loss: 0.794500  Val Accuracy 0.765900: 100%|██████████| 86/86 [00:05<00:00, 16.86it/s]\n",
            "Epoch: 2  Loss: 0.733600  Accuracy 0.829400: 100%|██████████| 344/344 [01:01<00:00,  5.57it/s]\n",
            "Epoch: 2  Val Loss: 0.779400  Val Accuracy 0.771600: 100%|██████████| 86/86 [00:05<00:00, 16.99it/s]\n",
            "Epoch: 3  Loss: 0.698200  Accuracy 0.860800: 100%|██████████| 344/344 [01:01<00:00,  5.57it/s]\n",
            "Epoch: 3  Val Loss: 0.774700  Val Accuracy 0.774800: 100%|██████████| 86/86 [00:05<00:00, 16.98it/s]\n",
            "Epoch: 4  Loss: 0.677900  Accuracy 0.878400: 100%|██████████| 344/344 [01:01<00:00,  5.58it/s]\n",
            "Epoch: 4  Val Loss: 0.782100  Val Accuracy 0.766000: 100%|██████████| 86/86 [00:05<00:00, 16.95it/s]\n"
          ]
        }
      ]
    },
    {
      "cell_type": "markdown",
      "source": [
        "Load the test / holdout dataset to evaluate how well our model performs"
      ],
      "metadata": {
        "id": "d0DV-Jx_m7wr"
      }
    },
    {
      "cell_type": "code",
      "source": [
        "test_df = pd.read_csv(TEST_CSV)\n",
        "test_df = data_preprocess(test_df, 'text', 'sentiment', 3, {'negative':0, 'neutral':1, 'positive':2})\n",
        "test_df.head()"
      ],
      "metadata": {
        "colab": {
          "base_uri": "https://localhost:8080/",
          "height": 206
        },
        "id": "cdcg5_LShy9K",
        "outputId": "7a782b70-4eb0-472f-ba45-1882f54e727a"
      },
      "execution_count": 18,
      "outputs": [
        {
          "output_type": "execute_result",
          "data": {
            "text/plain": [
              "       textID                                               text    sentiment\n",
              "0  f87dea47db  Last session of the day  http://twitpic.com/67ezh  [0, 1.0, 0]\n",
              "1  96d74cb729  Shanghai is also really exciting (precisely --...  [0, 0, 1.0]\n",
              "2  eee518ae67  Recession hit Veronique Branquinho, she has to...  [1.0, 0, 0]\n",
              "3  01082688c6                                        happy bday!  [0, 0, 1.0]\n",
              "4  33987a8ee5             http://twitpic.com/4w75p - I like it!!  [0, 0, 1.0]"
            ],
            "text/html": [
              "\n",
              "  <div id=\"df-fe326d93-7eba-473a-8b96-4fa8de711226\">\n",
              "    <div class=\"colab-df-container\">\n",
              "      <div>\n",
              "<style scoped>\n",
              "    .dataframe tbody tr th:only-of-type {\n",
              "        vertical-align: middle;\n",
              "    }\n",
              "\n",
              "    .dataframe tbody tr th {\n",
              "        vertical-align: top;\n",
              "    }\n",
              "\n",
              "    .dataframe thead th {\n",
              "        text-align: right;\n",
              "    }\n",
              "</style>\n",
              "<table border=\"1\" class=\"dataframe\">\n",
              "  <thead>\n",
              "    <tr style=\"text-align: right;\">\n",
              "      <th></th>\n",
              "      <th>textID</th>\n",
              "      <th>text</th>\n",
              "      <th>sentiment</th>\n",
              "    </tr>\n",
              "  </thead>\n",
              "  <tbody>\n",
              "    <tr>\n",
              "      <th>0</th>\n",
              "      <td>f87dea47db</td>\n",
              "      <td>Last session of the day  http://twitpic.com/67ezh</td>\n",
              "      <td>[0, 1.0, 0]</td>\n",
              "    </tr>\n",
              "    <tr>\n",
              "      <th>1</th>\n",
              "      <td>96d74cb729</td>\n",
              "      <td>Shanghai is also really exciting (precisely --...</td>\n",
              "      <td>[0, 0, 1.0]</td>\n",
              "    </tr>\n",
              "    <tr>\n",
              "      <th>2</th>\n",
              "      <td>eee518ae67</td>\n",
              "      <td>Recession hit Veronique Branquinho, she has to...</td>\n",
              "      <td>[1.0, 0, 0]</td>\n",
              "    </tr>\n",
              "    <tr>\n",
              "      <th>3</th>\n",
              "      <td>01082688c6</td>\n",
              "      <td>happy bday!</td>\n",
              "      <td>[0, 0, 1.0]</td>\n",
              "    </tr>\n",
              "    <tr>\n",
              "      <th>4</th>\n",
              "      <td>33987a8ee5</td>\n",
              "      <td>http://twitpic.com/4w75p - I like it!!</td>\n",
              "      <td>[0, 0, 1.0]</td>\n",
              "    </tr>\n",
              "  </tbody>\n",
              "</table>\n",
              "</div>\n",
              "      <button class=\"colab-df-convert\" onclick=\"convertToInteractive('df-fe326d93-7eba-473a-8b96-4fa8de711226')\"\n",
              "              title=\"Convert this dataframe to an interactive table.\"\n",
              "              style=\"display:none;\">\n",
              "        \n",
              "  <svg xmlns=\"http://www.w3.org/2000/svg\" height=\"24px\"viewBox=\"0 0 24 24\"\n",
              "       width=\"24px\">\n",
              "    <path d=\"M0 0h24v24H0V0z\" fill=\"none\"/>\n",
              "    <path d=\"M18.56 5.44l.94 2.06.94-2.06 2.06-.94-2.06-.94-.94-2.06-.94 2.06-2.06.94zm-11 1L8.5 8.5l.94-2.06 2.06-.94-2.06-.94L8.5 2.5l-.94 2.06-2.06.94zm10 10l.94 2.06.94-2.06 2.06-.94-2.06-.94-.94-2.06-.94 2.06-2.06.94z\"/><path d=\"M17.41 7.96l-1.37-1.37c-.4-.4-.92-.59-1.43-.59-.52 0-1.04.2-1.43.59L10.3 9.45l-7.72 7.72c-.78.78-.78 2.05 0 2.83L4 21.41c.39.39.9.59 1.41.59.51 0 1.02-.2 1.41-.59l7.78-7.78 2.81-2.81c.8-.78.8-2.07 0-2.86zM5.41 20L4 18.59l7.72-7.72 1.47 1.35L5.41 20z\"/>\n",
              "  </svg>\n",
              "      </button>\n",
              "      \n",
              "  <style>\n",
              "    .colab-df-container {\n",
              "      display:flex;\n",
              "      flex-wrap:wrap;\n",
              "      gap: 12px;\n",
              "    }\n",
              "\n",
              "    .colab-df-convert {\n",
              "      background-color: #E8F0FE;\n",
              "      border: none;\n",
              "      border-radius: 50%;\n",
              "      cursor: pointer;\n",
              "      display: none;\n",
              "      fill: #1967D2;\n",
              "      height: 32px;\n",
              "      padding: 0 0 0 0;\n",
              "      width: 32px;\n",
              "    }\n",
              "\n",
              "    .colab-df-convert:hover {\n",
              "      background-color: #E2EBFA;\n",
              "      box-shadow: 0px 1px 2px rgba(60, 64, 67, 0.3), 0px 1px 3px 1px rgba(60, 64, 67, 0.15);\n",
              "      fill: #174EA6;\n",
              "    }\n",
              "\n",
              "    [theme=dark] .colab-df-convert {\n",
              "      background-color: #3B4455;\n",
              "      fill: #D2E3FC;\n",
              "    }\n",
              "\n",
              "    [theme=dark] .colab-df-convert:hover {\n",
              "      background-color: #434B5C;\n",
              "      box-shadow: 0px 1px 3px 1px rgba(0, 0, 0, 0.15);\n",
              "      filter: drop-shadow(0px 1px 2px rgba(0, 0, 0, 0.3));\n",
              "      fill: #FFFFFF;\n",
              "    }\n",
              "  </style>\n",
              "\n",
              "      <script>\n",
              "        const buttonEl =\n",
              "          document.querySelector('#df-fe326d93-7eba-473a-8b96-4fa8de711226 button.colab-df-convert');\n",
              "        buttonEl.style.display =\n",
              "          google.colab.kernel.accessAllowed ? 'block' : 'none';\n",
              "\n",
              "        async function convertToInteractive(key) {\n",
              "          const element = document.querySelector('#df-fe326d93-7eba-473a-8b96-4fa8de711226');\n",
              "          const dataTable =\n",
              "            await google.colab.kernel.invokeFunction('convertToInteractive',\n",
              "                                                     [key], {});\n",
              "          if (!dataTable) return;\n",
              "\n",
              "          const docLinkHtml = 'Like what you see? Visit the ' +\n",
              "            '<a target=\"_blank\" href=https://colab.research.google.com/notebooks/data_table.ipynb>data table notebook</a>'\n",
              "            + ' to learn more about interactive tables.';\n",
              "          element.innerHTML = '';\n",
              "          dataTable['output_type'] = 'display_data';\n",
              "          await google.colab.output.renderOutput(dataTable, element);\n",
              "          const docLink = document.createElement('div');\n",
              "          docLink.innerHTML = docLinkHtml;\n",
              "          element.appendChild(docLink);\n",
              "        }\n",
              "      </script>\n",
              "    </div>\n",
              "  </div>\n",
              "  "
            ]
          },
          "metadata": {},
          "execution_count": 18
        }
      ]
    },
    {
      "cell_type": "code",
      "source": [
        "test_dataset = TwitterSentimentDataset(test_df[TEXT].tolist(), test_df[SENTIMENT].tolist())\n",
        "\n",
        "test_loader = DataLoader(test_dataset, batch_size=64, num_workers=2, shuffle=True, pin_memory=False, drop_last=False)"
      ],
      "metadata": {
        "id": "8rbp5_LQiQHP"
      },
      "execution_count": 19,
      "outputs": []
    },
    {
      "cell_type": "code",
      "source": [
        "test_acc = []\n",
        "for (X, mask, y) in test_loader:\n",
        "  data, target = read_data((X, mask, y))\n",
        "  model.eval()\n",
        "  with torch.no_grad():\n",
        "    preds = model(data[0].squeeze(), data[1].squeeze())\n",
        "    predicts = get_pred(preds.detach().cpu().numpy())\n",
        "    acc = accuracy_score(predicts, target.detach().cpu().numpy())\n",
        "    test_acc.append(acc)"
      ],
      "metadata": {
        "id": "TSlMwF68ic1D"
      },
      "execution_count": 20,
      "outputs": []
    },
    {
      "cell_type": "code",
      "source": [
        "print('The accuracy on the test set is: ' + str(np.round(np.mean(test_acc), 4)))"
      ],
      "metadata": {
        "colab": {
          "base_uri": "https://localhost:8080/"
        },
        "id": "SalcollQjccK",
        "outputId": "c02bdaa3-a2f4-40e7-c1c3-7f5bad46b576"
      },
      "execution_count": 21,
      "outputs": [
        {
          "output_type": "stream",
          "name": "stdout",
          "text": [
            "The accuracy on the test set is: 0.7769\n"
          ]
        }
      ]
    },
    {
      "cell_type": "markdown",
      "source": [
        "Handwritten sentences to ensure the model works"
      ],
      "metadata": {
        "id": "NyVvGV2wnBPf"
      }
    },
    {
      "cell_type": "code",
      "source": [
        "x = ['This food is disgusting',\n",
        "     'This app is very well made',\n",
        "     'This repository looks good',\n",
        "     'I never want to eat this food again',\n",
        "     'This outfit is very ugly',\n",
        "     'When I bought the level it worked really poorly for me',\n",
        "     'Apple does not care about their customers anymore and the new product is proof of that',\n",
        "     'Amazon works really hard and makes getting shipments much easier',\n",
        "     'The food was good when the restaurant first opened but now it tastes really bad',\n",
        "     'The phone sucks now but it used to be good but now it is bad again',\n",
        "     'The guitar used to sound bad but now it sounds beautiful good amazing',\n",
        "     'Are you stupid?',\n",
        "     'You are so wrong it hurts my head',\n",
        "     'Awesome I also talked to the ta and we are getting full credit on hw3 and hw4',\n",
        "     'Sounds good. Also, I am going to go ahead and try to resubmit hw3 today after I do the test cases so let me know when someone approves the pr i throw up later',\n",
        "     'I am going to go to the grocery store']\n",
        "def run_model(x):\n",
        "  decode = {0:'NEGATIVE', 1:'NEUTRAL', 2:'POSITIVE'}\n",
        "  tokenizer = BertTokenizer.from_pretrained('bert-base-uncased')\n",
        "  input = tokenizer.encode_plus(text = x,\n",
        "                                          add_special_tokens=True,\n",
        "                                          padding='max_length',\n",
        "                                          max_length = 64,\n",
        "                                          return_tensors='pt',\n",
        "                                          truncation=True,\n",
        "                                          return_attention_mask=True)\n",
        "  preds = model(input['input_ids'].cuda(), input['attention_mask'].cuda()).detach().cpu().numpy().ravel()\n",
        "  p = np.argmax(preds)\n",
        "  print(preds)\n",
        "  return decode[p]\n",
        "\n",
        "for i in x:\n",
        "  print('Sentence ------- Prediction')\n",
        "  print(i + ': ' + run_model(i))"
      ],
      "metadata": {
        "colab": {
          "base_uri": "https://localhost:8080/"
        },
        "id": "RumaBeRHT3Tn",
        "outputId": "704e990c-9161-49b0-be0d-c8efc7df076f"
      },
      "execution_count": 25,
      "outputs": [
        {
          "output_type": "stream",
          "name": "stdout",
          "text": [
            "Sentence ------- Prediction\n",
            "[0.98529214 0.01268106 0.00202685]\n",
            "This food is disgusting: NEGATIVE\n",
            "Sentence ------- Prediction\n",
            "[0.00109776 0.00397609 0.9949261 ]\n",
            "This app is very well made: POSITIVE\n",
            "Sentence ------- Prediction\n",
            "[0.00152129 0.00410953 0.9943692 ]\n",
            "This repository looks good: POSITIVE\n",
            "Sentence ------- Prediction\n",
            "[0.98225844 0.01502151 0.00272002]\n",
            "I never want to eat this food again: NEGATIVE\n",
            "Sentence ------- Prediction\n",
            "[0.9851163  0.01246835 0.0024154 ]\n",
            "This outfit is very ugly: NEGATIVE\n",
            "Sentence ------- Prediction\n",
            "[0.98575586 0.01215103 0.00209305]\n",
            "When I bought the level it worked really poorly for me: NEGATIVE\n",
            "Sentence ------- Prediction\n",
            "[0.75181055 0.24224073 0.0059487 ]\n",
            "Apple does not care about their customers anymore and the new product is proof of that: NEGATIVE\n",
            "Sentence ------- Prediction\n",
            "[0.00110285 0.00706861 0.9918285 ]\n",
            "Amazon works really hard and makes getting shipments much easier: POSITIVE\n",
            "Sentence ------- Prediction\n",
            "[0.982128   0.01621334 0.00165862]\n",
            "The food was good when the restaurant first opened but now it tastes really bad: NEGATIVE\n",
            "Sentence ------- Prediction\n",
            "[0.98561865 0.01201707 0.00236433]\n",
            "The phone sucks now but it used to be good but now it is bad again: NEGATIVE\n",
            "Sentence ------- Prediction\n",
            "[0.00995022 0.73328805 0.25676167]\n",
            "The guitar used to sound bad but now it sounds beautiful good amazing: NEUTRAL\n",
            "Sentence ------- Prediction\n",
            "[0.98384744 0.01361738 0.00253519]\n",
            "Are you stupid?: NEGATIVE\n",
            "Sentence ------- Prediction\n",
            "[0.98496914 0.01255701 0.00247388]\n",
            "You are so wrong it hurts my head: NEGATIVE\n",
            "Sentence ------- Prediction\n",
            "[0.0011659  0.00362096 0.99521315]\n",
            "Awesome I also talked to the ta and we are getting full credit on hw3 and hw4: POSITIVE\n",
            "Sentence ------- Prediction\n",
            "[0.00130144 0.00405533 0.9946432 ]\n",
            "Sounds good. Also, I am going to go ahead and try to resubmit hw3 today after I do the test cases so let me know when someone approves the pr i throw up later: POSITIVE\n",
            "Sentence ------- Prediction\n",
            "[0.0031616  0.9927418  0.00409652]\n",
            "I am going to go to the grocery store: NEUTRAL\n"
          ]
        }
      ]
    }
  ]
}